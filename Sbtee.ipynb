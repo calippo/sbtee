{
 "cells": [
  {
   "cell_type": "markdown",
   "metadata": {
    "slideshow": {
     "slide_type": "slide"
    }
   },
   "source": [
    "# Sbtee!\n",
    "\n",
    "Analyzing sbt errors"
   ]
  },
  {
   "cell_type": "markdown",
   "metadata": {
    "slideshow": {
     "slide_type": "slide"
    }
   },
   "source": [
    "# How does it work?\n",
    "\n",
    "```bash\n",
    "\n",
    "alias sbt='f() { sbt \"$@\" |tee -a ~/.sbtlogs; };f'\n",
    "\n",
    "```"
   ]
  },
  {
   "cell_type": "markdown",
   "metadata": {
    "slideshow": {
     "slide_type": "slide"
    }
   },
   "source": [
    "# Data Exploration\n",
    "\n",
    "Aug 31, 2016 to Dec 23, 2016 (~4 months)\n"
   ]
  },
  {
   "cell_type": "code",
   "execution_count": 77,
   "metadata": {
    "collapsed": false,
    "slideshow": {
     "slide_type": "fragment"
    }
   },
   "outputs": [
    {
     "name": "stdout",
     "output_type": "stream",
     "text": [
      " 3939874\r\n"
     ]
    }
   ],
   "source": [
    "cat sbt_usage|wc -l"
   ]
  },
  {
   "cell_type": "code",
   "execution_count": 78,
   "metadata": {
    "collapsed": false,
    "slideshow": {
     "slide_type": "fragment"
    }
   },
   "outputs": [
    {
     "name": "stdout",
     "output_type": "stream",
     "text": [
      "-rw-r--r--  1 cale  staff    48M Dec 24 00:18 sbt_usage\r\n"
     ]
    }
   ],
   "source": [
    "ls -lh|grep sbt_usage"
   ]
  },
  {
   "cell_type": "markdown",
   "metadata": {
    "slideshow": {
     "slide_type": "slide"
    }
   },
   "source": [
    "# Sbt logs"
   ]
  },
  {
   "cell_type": "code",
   "execution_count": 79,
   "metadata": {
    "collapsed": false,
    "slideshow": {
     "slide_type": "fragment"
    }
   },
   "outputs": [
    {
     "name": "stdout",
     "output_type": "stream",
     "text": [
      "  119223\r\n"
     ]
    }
   ],
   "source": [
    "cat sbt_usage|grep '0minfo'|wc -l"
   ]
  },
  {
   "cell_type": "code",
   "execution_count": 80,
   "metadata": {
    "collapsed": false,
    "scrolled": true,
    "slideshow": {
     "slide_type": "fragment"
    }
   },
   "outputs": [
    {
     "name": "stdout",
     "output_type": "stream",
     "text": [
      "    2101\r\n"
     ]
    }
   ],
   "source": [
    "cat sbt_usage|grep '32msuccess'|wc -l"
   ]
  },
  {
   "cell_type": "code",
   "execution_count": 81,
   "metadata": {
    "collapsed": false,
    "slideshow": {
     "slide_type": "fragment"
    }
   },
   "outputs": [
    {
     "name": "stdout",
     "output_type": "stream",
     "text": [
      "   68851\r\n"
     ]
    }
   ],
   "source": [
    "cat sbt_usage|grep '33mwarn'|wc -l"
   ]
  },
  {
   "cell_type": "code",
   "execution_count": 82,
   "metadata": {
    "collapsed": false,
    "slideshow": {
     "slide_type": "fragment"
    }
   },
   "outputs": [
    {
     "name": "stdout",
     "output_type": "stream",
     "text": [
      "   97093\r\n"
     ]
    }
   ],
   "source": [
    "cat sbt_usage|grep '31merror'|wc -l"
   ]
  },
  {
   "cell_type": "markdown",
   "metadata": {
    "slideshow": {
     "slide_type": "fragment"
    }
   },
   "source": [
    "**Note**: '31m' and '33m' are color escape sequences"
   ]
  },
  {
   "cell_type": "markdown",
   "metadata": {
    "collapsed": true,
    "slideshow": {
     "slide_type": "slide"
    }
   },
   "source": [
    "# Compilation Errors"
   ]
  },
  {
   "cell_type": "code",
   "execution_count": 107,
   "metadata": {
    "collapsed": false,
    "slideshow": {
     "slide_type": "fragment"
    }
   },
   "outputs": [
    {
     "name": "stdout",
     "output_type": "stream",
     "text": [
      "Compilations: 5988\n",
      "Errors: 3361\n",
      "Percentage: 56%\n"
     ]
    }
   ],
   "source": [
    "with open(\"sbt_usage\", \"r\") as f:\n",
    "    sbt_usage = f.readlines()\n",
    "    usage_pairs = list(zip(sbt_usage[:-1], sbt_usage[1:]))\n",
    "    compilations = [b for (a, b) in usage_pairs if '0mCompiling' in a]\n",
    "    errors = [c for c in compilations if '31merror' in c]\n",
    "    (errors_n, compilations_n) = len(errors), len(compilations)\n",
    "    errors_percentage = errors_n/compilations_n*100\n",
    "    print(\"Compilations: %(compilations_n)i\" % locals())\n",
    "    print(\"Errors: %(errors_n)i\" % locals())\n",
    "    print(\"Percentage: %(errors_percentage)i%%\" % locals())"
   ]
  },
  {
   "cell_type": "markdown",
   "metadata": {
    "slideshow": {
     "slide_type": "slide"
    }
   },
   "source": [
    "# Top 10 errors"
   ]
  },
  {
   "cell_type": "code",
   "execution_count": 2,
   "metadata": {
    "collapsed": false,
    "slideshow": {
     "slide_type": "fragment"
    }
   },
   "outputs": [
    {
     "name": "stdout",
     "output_type": "stream",
     "text": [
      "(' type mismatch;\\x1b[0m\\n', 1771)\n",
      "(' not found: value Get\\x1b[0m\\n', 136)\n",
      "(' too many arguments for method parameters: (pdm: spray.routing.directives.ParamDefMagnet)pdm.Out\\x1b[0m\\n', 128)\n",
      "(' not found: value UserRole\\x1b[0m\\n', 119)\n",
      "(' not found: value check\\x1b[0m\\n', 107)\n"
     ]
    }
   ],
   "source": [
    "import re; from collections import Counter, OrderedDict\n",
    "\n",
    "def truncate(line):\n",
    "    p = re.compile('.scala:\\d+:') \n",
    "    m = p.search(line)\n",
    "    if m is None: end = len(line)\n",
    "    else: end = m.end()\n",
    "    return line[end:]\n",
    "\n",
    "with open(\"sbt_errors\", \"r\") as f: #cat sbt_usage|grep '31merror'\n",
    "    rawErrors = [truncate(l) for l in f.readlines()]\n",
    "    groupedErrors = Counter(rawErrors)\n",
    "    mostCommonErrors = groupedErrors.most_common(6)[1:]\n",
    "    [print(e) for e in mostCommonErrors]"
   ]
  },
  {
   "cell_type": "markdown",
   "metadata": {
    "slideshow": {
     "slide_type": "slide"
    }
   },
   "source": [
    "# Errors per type"
   ]
  },
  {
   "cell_type": "code",
   "execution_count": 1,
   "metadata": {
    "collapsed": false,
    "slideshow": {
     "slide_type": "fragment"
    }
   },
   "outputs": [
    {
     "name": "stdout",
     "output_type": "stream",
     "text": [
      "Not found: 3175\n",
      "Too many arguments: 128\n",
      "Type mismatch: 1771\n",
      "Takes type parameters: 192\n",
      "Polymorphic expressions: 83\n",
      "Exploding macros: 61\n"
     ]
    }
   ],
   "source": [
    "with open(\"sbt_errors\", \"r\") as f: #cat sbt_usage|grep '31merror'\n",
    "    errors = f.readlines()\n",
    "    not_found_n = len([e for e in errors if 'not found: value ' in e])\n",
    "    too_many_arguments_n = len([e for e in errors if 'too many arguments for method parameters: ' in e])\n",
    "    type_mismatch_n = len([e for e in errors if 'type mismatch;' in e])\n",
    "    takes_type_parameters_n = len([e for e in errors if 'takes type parameters' in e])\n",
    "    polymorphic_expressions_n = len([e for e in errors if 'polymorphic expression cannot be instantiated to expected type' in e])\n",
    "    exploding_macros_n = len([e for e in errors if 'exception during macro expansion' in e])\n",
    "    \n",
    "    print(\"Not found: %(not_found_n)i\" % locals())\n",
    "    print(\"Too many arguments: %(too_many_arguments_n)i\" % locals())    \n",
    "    print(\"Type mismatch: %(type_mismatch_n)i\" % locals())        \n",
    "    print(\"Takes type parameters: %(takes_type_parameters_n)i\" % locals())\n",
    "    print(\"Polymorphic expressions: %(polymorphic_expressions_n)i\" % locals())\n",
    "    print(\"Exploding macros: %(exploding_macros_n)i\" % locals())"
   ]
  },
  {
   "cell_type": "markdown",
   "metadata": {
    "slideshow": {
     "slide_type": "slide"
    }
   },
   "source": [
    "# Conclusions\n",
    "- Compiling code is useful\n",
    "    - 1771 Type mismatch (20+ times a day)\n",
    "- Most of my errors are due to bad imports\n",
    "    - 3175 Not found errors (~40 times a day)\n",
    "- I should probably revise the magnet pattern\n",
    "    - 128 too many arguments ... ParamDefMagnet"
   ]
  }
 ],
 "metadata": {
  "kernelspec": {
   "display_name": "Python 3",
   "language": "python",
   "name": "python3"
  },
  "language_info": {
   "codemirror_mode": {
    "name": "ipython",
    "version": 3
   },
   "file_extension": ".py",
   "mimetype": "text/x-python",
   "name": "python",
   "nbconvert_exporter": "python",
   "pygments_lexer": "ipython3",
   "version": "3.5.2"
  },
  "livereveal": {
   "theme": "white"
  }
 },
 "nbformat": 4,
 "nbformat_minor": 2
}
